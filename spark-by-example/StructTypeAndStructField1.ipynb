{
 "cells": [
  {
   "cell_type": "markdown",
   "id": "7e3dbf13-3641-478e-a9ed-e093ef13e405",
   "metadata": {},
   "source": [
    "`StructType` and `StructField` With Examples"
   ]
  },
  {
   "cell_type": "markdown",
   "id": "36a0b53f-7875-46e4-b84a-6f0a92bdd236",
   "metadata": {},
   "source": [
    "PySpark `StructType` and `StructField` classes are used to programmatically specify the schema to\n",
    "the DataFrame and create complex columns like nested struct, array, and map columns.\n",
    "`StructType` is a collection of `StructField` that defines column name, column data type, boolean \n",
    "to specify if the field can be nullable or not metadata. Though PySpark infers the schema from the \n",
    "data, sometimes we may need to define our own column names and data types and this article explains\n",
    "how to define simple, nested and complex schemas"
   ]
  },
  {
   "cell_type": "markdown",
   "id": "d5a9a65c-0571-426c-a8a4-e0c809e871a5",
   "metadata": {},
   "source": [
    "1. `StructType` defines the structure of the DataFrame"
   ]
  },
  {
   "cell_type": "markdown",
   "id": "2793e7b9-8720-4caf-924c-f180048d6862",
   "metadata": {},
   "source": [
    "PySpark provides from `pyspark.sql.types import StructType` class to define the structure of a DataFrame.\n",
    "`StructType` is a collection or list of `StructField` objects. `StructType` is a collection or list of `StructField` objects."
   ]
  },
  {
   "cell_type": "markdown",
   "id": "44818f73-878d-4ec1-a513-16453d7fc160",
   "metadata": {
    "tags": []
   },
   "source": [
    "2. `StructField` defines the metadata of the `DataFrame` column"
   ]
  },
  {
   "cell_type": "markdown",
   "id": "8a19ad3e-1144-4a3e-a5fd-ef04c915ac56",
   "metadata": {},
   "source": [
    "`PySpark` provides `pyspark.sqltypes import StructField` class to define the columns which include column name\n",
    "(`String`), column type (`DataType`), nullable column (`Boolean`) and metadata (`MetaData`)"
   ]
  },
  {
   "cell_type": "code",
   "execution_count": null,
   "id": "502147a2-b2a5-4e26-8c43-27588570af81",
   "metadata": {},
   "outputs": [],
   "source": []
  }
 ],
 "metadata": {
  "kernelspec": {
   "display_name": "Python 3 (ipykernel)",
   "language": "python",
   "name": "python3"
  },
  "language_info": {
   "codemirror_mode": {
    "name": "ipython",
    "version": 3
   },
   "file_extension": ".py",
   "mimetype": "text/x-python",
   "name": "python",
   "nbconvert_exporter": "python",
   "pygments_lexer": "ipython3",
   "version": "3.10.10"
  }
 },
 "nbformat": 4,
 "nbformat_minor": 5
}
