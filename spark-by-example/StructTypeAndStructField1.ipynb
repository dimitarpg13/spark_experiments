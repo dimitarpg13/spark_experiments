{
 "cells": [
  {
   "cell_type": "markdown",
   "id": "7e3dbf13-3641-478e-a9ed-e093ef13e405",
   "metadata": {},
   "source": [
    "`StructType` and `StructField` With Examples"
   ]
  },
  {
   "cell_type": "markdown",
   "id": "36a0b53f-7875-46e4-b84a-6f0a92bdd236",
   "metadata": {},
   "source": [
    "PySpark `StructType` and `StructField` classes are used to programmatically specify the schema to\n",
    "the DataFrame and create complex columns like nested struct, array, and map columns.\n",
    "`StructType` is a collection of `StructField` that defines column name, column data type, boolean \n",
    "to specify if the field can be nullable or not metadata. Though PySpark infers the schema from the \n",
    "data, sometimes we may need to define our own column names and data types and this article explains\n",
    "how to define simple, nested and complex schemas"
   ]
  },
  {
   "cell_type": "markdown",
   "id": "d5a9a65c-0571-426c-a8a4-e0c809e871a5",
   "metadata": {},
   "source": [
    "1. `StructType` defines the structure of the DataFrame"
   ]
  },
  {
   "cell_type": "markdown",
   "id": "2793e7b9-8720-4caf-924c-f180048d6862",
   "metadata": {},
   "source": [
    "PySpark provides from `pyspark.sql.types import StructType` class to define the structure of a DataFrame.\n",
    "`StructType` is a collection or list of `StructField` objects. `StructType` is a collection or list of `StructField` objects."
   ]
  },
  {
   "cell_type": "markdown",
   "id": "44818f73-878d-4ec1-a513-16453d7fc160",
   "metadata": {
    "tags": []
   },
   "source": [
    "2. `StructField` defines the metadata of the `DataFrame` column"
   ]
  },
  {
   "cell_type": "markdown",
   "id": "8a19ad3e-1144-4a3e-a5fd-ef04c915ac56",
   "metadata": {},
   "source": [
    "`PySpark` provides `pyspark.sqltypes import StructField` class to define the columns which include column name\n",
    "(`String`), column type (`DataType`), nullable column (`Boolean`) and metadata (`MetaData`)"
   ]
  },
  {
   "cell_type": "markdown",
   "id": "5bd911c5-eee1-4212-b16c-022b710b3714",
   "metadata": {},
   "source": [
    "3. Using PySpark StructType and StructField with DataFrame "
   ]
  },
  {
   "cell_type": "markdown",
   "id": "0dd76492-09c6-4289-9ce5-80182c4e5f36",
   "metadata": {},
   "source": [
    "While creating a PySpark DataFrame we can specify the structure using StructType and StructField classes. `StructType` is a collection of\n",
    "`StructField`'s which is used to define the column name, data type and a flag for a nullable or not. Using `StructField` we can also add \n",
    "nested struct schema. `ArrayType` for arrays, and `MapType` for key-value pairs which we will discuss in details. "
   ]
  },
  {
   "cell_type": "markdown",
   "id": "e9842451-80c5-471b-9ed8-0c108e93274d",
   "metadata": {},
   "source": [
    "The below example demonstrates a very simple example of how to create a `StructType` and `StructField` on `DataFrame` and it's usage with sample data to support it."
   ]
  },
  {
   "cell_type": "code",
   "execution_count": 1,
   "id": "c36044c3-1a4f-4a67-ac74-3aaf14bf4bbb",
   "metadata": {
    "tags": []
   },
   "outputs": [
    {
     "name": "stdout",
     "output_type": "stream",
     "text": [
      "root\n",
      " |-- firstname: string (nullable = true)\n",
      " |-- middlename: string (nullable = true)\n",
      " |-- lastname: string (nullable = true)\n",
      " |-- id: string (nullable = true)\n",
      " |-- geneder: string (nullable = true)\n",
      " |-- salary: integer (nullable = true)\n",
      "\n",
      "+---------+----------+--------+-----+-------+------+\n",
      "|firstname|middlename|lastname|id   |geneder|salary|\n",
      "+---------+----------+--------+-----+-------+------+\n",
      "|James    |          |Smith   |36636|M      |3000  |\n",
      "|Michael  |Rose      |        |40288|M      |4000  |\n",
      "|Robert   |          |Williams|42114|M      |4000  |\n",
      "|Maria    |Anne      |Jones   |39192|F      |4000  |\n",
      "|Jen      |Mary      |Brown   |     |F      |-1    |\n",
      "+---------+----------+--------+-----+-------+------+\n",
      "\n"
     ]
    }
   ],
   "source": [
    "import pyspark\n",
    "from pyspark.sql import SparkSession\n",
    "from pyspark.sql.types import StructType, StructField, StringType, IntegerType\n",
    "\n",
    "spark = SparkSession.builder.master(\"local[1]\") \\\n",
    "                    .appName('SparkByExamples.com') \\\n",
    "                    .getOrCreate()\n",
    "\n",
    "data = [(\"James\", \"\", \"Smith\", \"36636\", \"M\", 3000),\n",
    "        (\"Michael\", \"Rose\", \"\", \"40288\", \"M\", 4000),\n",
    "        (\"Robert\",\"\",\"Williams\", \"42114\", \"M\", 4000),\n",
    "        (\"Maria\",\"Anne\",\"Jones\",\"39192\",\"F\",4000),\n",
    "        (\"Jen\",\"Mary\",\"Brown\",\"\",\"F\",-1)\n",
    "       ]\n",
    "\n",
    "schema = StructType([ \\\n",
    "                     StructField(\"firstname\",StringType(),True), \\\n",
    "                     StructField(\"middlename\",StringType(),True), \\\n",
    "                     StructField(\"lastname\",StringType(),True), \\\n",
    "                     StructField(\"id\", StringType(), True), \\\n",
    "                     StructField(\"geneder\", StringType(), True), \\\n",
    "                     StructField(\"salary\", IntegerType(), True) \\\n",
    "                    ])\n",
    "\n",
    "df = spark.createDataFrame(data=data, schema=schema)\n",
    "df.printSchema()\n",
    "df.show(truncate=False)"
   ]
  },
  {
   "cell_type": "markdown",
   "id": "6ffc4b94-6174-4f2c-97e1-68f72d1279b9",
   "metadata": {},
   "source": [
    "4. Defining Nested `StructType` object struct\n",
    "\n",
    "While working on DataFrame we often need to work with the nested struct column and this can be defined using `StructType`.\n",
    "In the below example column \"name\" data type is StructType which is nested. \n"
   ]
  },
  {
   "cell_type": "code",
   "execution_count": 2,
   "id": "c9a3fb73-0747-45cf-976e-ad88f60ac186",
   "metadata": {
    "tags": []
   },
   "outputs": [
    {
     "name": "stdout",
     "output_type": "stream",
     "text": [
      "root\n",
      " |-- name: struct (nullable = true)\n",
      " |    |-- firstname: string (nullable = true)\n",
      " |    |-- middlename: string (nullable = true)\n",
      " |    |-- lastname: string (nullable = true)\n",
      " |-- id: string (nullable = true)\n",
      " |-- gender: string (nullable = true)\n",
      " |-- salary: integer (nullable = true)\n",
      "\n",
      "+--------------------+-----+------+------+\n",
      "|name                |id   |gender|salary|\n",
      "+--------------------+-----+------+------+\n",
      "|{James, , Smith}    |36636|M     |3100  |\n",
      "|{Michael, Rose, }   |40288|M     |4300  |\n",
      "|{Robert, , Williams}|42114|M     |1400  |\n",
      "|{Maria, Anne, Jones}|39192|F     |5500  |\n",
      "|{Jen, Mary, Brown}  |     |F     |-1    |\n",
      "+--------------------+-----+------+------+\n",
      "\n"
     ]
    }
   ],
   "source": [
    "structureData = [\n",
    "    ((\"James\", \"\", \"Smith\"), \"36636\", \"M\", 3100),\n",
    "    ((\"Michael\", \"Rose\", \"\"), \"40288\", \"M\", 4300),\n",
    "    ((\"Robert\", \"\", \"Williams\"), \"42114\", \"M\", 1400),\n",
    "    ((\"Maria\", \"Anne\", \"Jones\"), \"39192\", \"F\", 5500),\n",
    "    ((\"Jen\", \"Mary\", \"Brown\"), \"\", \"F\", -1)\n",
    "]\n",
    "structureSchema = StructType([\n",
    "    StructField('name', StructType([\n",
    "        StructField('firstname', StringType(), True),\n",
    "        StructField('middlename', StringType(), True),\n",
    "        StructField('lastname', StringType(), True)\n",
    "    ])),\n",
    "    StructField('id', StringType(), True),\n",
    "    StructField('gender', StringType(), True),\n",
    "    StructField('salary', IntegerType(), True)\n",
    "])\n",
    "\n",
    "df2 = spark.createDataFrame(data=structureData, schema=structureSchema)\n",
    "df2.printSchema()\n",
    "df2.show(truncate=False)"
   ]
  },
  {
   "cell_type": "markdown",
   "id": "f3415475-85cf-4ca5-891b-5a9d60c98576",
   "metadata": {},
   "source": [
    "5. Adding and Changing struct of the DataFrame\n",
    "\n",
    "Using PySpark SQL function `struct`, we can change the struct of the existing DataFrame and add a new SturctType to it. \n",
    "The below example demonstrates how to copy the columns from one structure to another and adding a new column. PySpark \n",
    "`Column` class also provides some functions to work with the `StructType` column."
   ]
  },
  {
   "cell_type": "code",
   "execution_count": 5,
   "id": "75ad1da6-a871-4539-ba2c-8b72ca274229",
   "metadata": {
    "tags": []
   },
   "outputs": [
    {
     "name": "stdout",
     "output_type": "stream",
     "text": [
      "root\n",
      " |-- name: struct (nullable = true)\n",
      " |    |-- firstname: string (nullable = true)\n",
      " |    |-- middlename: string (nullable = true)\n",
      " |    |-- lastname: string (nullable = true)\n",
      " |-- OtherInfo: struct (nullable = false)\n",
      " |    |-- identifier: string (nullable = true)\n",
      " |    |-- gender: string (nullable = true)\n",
      " |    |-- salary: integer (nullable = true)\n",
      " |    |-- Salary_Grade: string (nullable = false)\n",
      "\n",
      "+--------------------+------------------------+\n",
      "|name                |OtherInfo               |\n",
      "+--------------------+------------------------+\n",
      "|{James, , Smith}    |{36636, M, 3100, Medium}|\n",
      "|{Michael, Rose, }   |{40288, M, 4300, High}  |\n",
      "|{Robert, , Williams}|{42114, M, 1400, Low}   |\n",
      "|{Maria, Anne, Jones}|{39192, F, 5500, High}  |\n",
      "|{Jen, Mary, Brown}  |{, F, -1, Low}          |\n",
      "+--------------------+------------------------+\n",
      "\n"
     ]
    }
   ],
   "source": [
    "from pyspark.sql.functions import col,struct,when\n",
    "updatedDF = df2.withColumn(\"OtherInfo\",\n",
    "                           struct(col(\"id\").alias(\"identifier\"),\n",
    "                                  col(\"gender\").alias(\"gender\"),\n",
    "                                  col(\"salary\").alias(\"salary\"),\n",
    "                                  when(col(\"salary\").cast(IntegerType()) < 2000, \"Low\").\n",
    "                                  when(col(\"salary\").cast(IntegerType()) < 4000, \"Medium\").\n",
    "                                  otherwise(\"High\").alias(\"Salary_Grade\")\n",
    "                                                         )).drop(\"id\", \"gender\", \"salary\")\n",
    "\n",
    "updatedDF.printSchema()\n",
    "updatedDF.show(truncate=False)"
   ]
  },
  {
   "cell_type": "markdown",
   "id": "5914261d-1ba0-4039-bed2-6a5781767422",
   "metadata": {},
   "source": [
    "Here, it copies `\"gender\"`, `\"salary\"`, and `\"id\"` to the new struct `\"otherInfo\"` and add's a new column `\"Salary_Grade\"`."
   ]
  },
  {
   "cell_type": "markdown",
   "id": "4d1bf99b-477e-417e-ba5e-714031daa223",
   "metadata": {},
   "source": [
    "6. Using SQL `ArrayType` and `MapType`\n",
    "\n",
    "SQL `StructType` also supports `ArrayType` and `MapType` to define the DataFrame columns for array and map collections respectively. \n",
    "On the below example, column `hobbies` defined as `ArrayType(StringType)` and `properties` defined as `MapType(StringType,StringType)`\n",
    "meaning both key and value as String."
   ]
  },
  {
   "cell_type": "code",
   "execution_count": 8,
   "id": "58733cbc-c12b-4f6b-be87-787833e2bda2",
   "metadata": {
    "tags": []
   },
   "outputs": [
    {
     "name": "stdout",
     "output_type": "stream",
     "text": [
      "StructType([StructField('name', StructType([StructField('firstname', StringType(), True), StructField('middlename', StringType(), True), StructField('lastname', StringType(), True)]), True), StructField('hobbies', ArrayType(StringType(), True), True), StructField('properties', MapType(StringType(), StringType(), True), True)])\n"
     ]
    }
   ],
   "source": [
    "from pyspark.sql.types import ArrayType, MapType\n",
    "\n",
    "arrayStructureSchema = StructType([\n",
    "    StructField('name', StructType([\n",
    "        StructField('firstname', StringType(), True),\n",
    "        StructField('middlename', StringType(), True),\n",
    "        StructField('lastname', StringType(), True)\n",
    "    ])),\n",
    "    StructField('hobbies', ArrayType(StringType()), True),\n",
    "    StructField('properties', MapType(StringType(), StringType()), True)\n",
    "])\n",
    "\n",
    "print(arrayStructureSchema)"
   ]
  },
  {
   "cell_type": "markdown",
   "id": "4e669926-956a-4fa8-928e-fed971cf82e8",
   "metadata": {},
   "source": [
    "7. Creating `StructType` object struct from JSON file\n",
    "\n",
    "If you have too many columns and the structure of the DataFrame changes now and then, it's a good practice to load the SQL `StructType` schema from JSON file.\n",
    "You can get the schema by using `df2.schema.json()`, store this in a file and will use it to create a schema from this file.\n"
   ]
  },
  {
   "cell_type": "code",
   "execution_count": 9,
   "id": "35eb03e7-754d-423b-b0c2-04c74bb7d8f3",
   "metadata": {
    "tags": []
   },
   "outputs": [
    {
     "name": "stdout",
     "output_type": "stream",
     "text": [
      "{\"fields\":[{\"metadata\":{},\"name\":\"name\",\"nullable\":true,\"type\":{\"fields\":[{\"metadata\":{},\"name\":\"firstname\",\"nullable\":true,\"type\":\"string\"},{\"metadata\":{},\"name\":\"middlename\",\"nullable\":true,\"type\":\"string\"},{\"metadata\":{},\"name\":\"lastname\",\"nullable\":true,\"type\":\"string\"}],\"type\":\"struct\"}},{\"metadata\":{},\"name\":\"id\",\"nullable\":true,\"type\":\"string\"},{\"metadata\":{},\"name\":\"gender\",\"nullable\":true,\"type\":\"string\"},{\"metadata\":{},\"name\":\"salary\",\"nullable\":true,\"type\":\"integer\"}],\"type\":\"struct\"}\n"
     ]
    }
   ],
   "source": [
    "print(df2.schema.json())"
   ]
  },
  {
   "cell_type": "markdown",
   "id": "04d6666d-acf8-49db-a133-2bbb23beef1f",
   "metadata": {},
   "source": [
    "Here is the output of `print(df2.schema.json()`:\n",
    "```\n",
    "{\n",
    "  \"fields\":\n",
    "    [\n",
    "       {\n",
    "         \"metadata\":{},\n",
    "         \"name\":\"name\",\n",
    "         \"nullable\":true,\n",
    "         \"type\":\n",
    "             {\"fields\":\n",
    "                  [\n",
    "                      {\n",
    "                         \"metadata\": {},\n",
    "                         \"name\": \"firstname\",\n",
    "                         \"nullable\": true,\n",
    "                         \"type\": \"string\",\n",
    "                      },\n",
    "                      {\n",
    "                         \"metadata\": {},\n",
    "                         \"name\": \"middlename\",\n",
    "                         \"nullable\": true,\n",
    "                         \"type\": \"string\"\n",
    "                      },\n",
    "                      {\n",
    "                         \"metadata\": {},\n",
    "                         \"name\": \"lastname\",\n",
    "                         \"nullable\": true,\n",
    "                         \"type\": \"string\"\n",
    "                      }\n",
    "                  ],\n",
    "                  \"type\": \"struct\"\n",
    "            }\n",
    "       },\n",
    "       {\n",
    "          \"metadata\":{},\n",
    "          \"name\": \"id\",\n",
    "          \"nullable\": true,\n",
    "          \"type\": \"string\"\n",
    "       },\n",
    "       {\n",
    "          \"metadata\":{},\n",
    "          \"name\": \"gender\",\n",
    "          \"nullable\": true,\n",
    "          \"type\": \"string\"\n",
    "       },\n",
    "       {\n",
    "          \"metadata\":{},\n",
    "          \"name\": \"salary\",\n",
    "          \"nullable\": true, \n",
    "          \"type\": \"integer\"\n",
    "       }\n",
    "    ],\n",
    "    \"type\": \"struct\"\n",
    "}\n",
    "```"
   ]
  },
  {
   "cell_type": "code",
   "execution_count": null,
   "id": "3d55b9be-464c-40af-b3c6-72ee3dc349c2",
   "metadata": {},
   "outputs": [],
   "source": []
  }
 ],
 "metadata": {
  "kernelspec": {
   "display_name": "Python 3 (ipykernel)",
   "language": "python",
   "name": "python3"
  },
  "language_info": {
   "codemirror_mode": {
    "name": "ipython",
    "version": 3
   },
   "file_extension": ".py",
   "mimetype": "text/x-python",
   "name": "python",
   "nbconvert_exporter": "python",
   "pygments_lexer": "ipython3",
   "version": "3.10.10"
  }
 },
 "nbformat": 4,
 "nbformat_minor": 5
}
