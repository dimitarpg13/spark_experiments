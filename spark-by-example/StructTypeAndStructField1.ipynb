{
 "cells": [
  {
   "cell_type": "markdown",
   "id": "7e3dbf13-3641-478e-a9ed-e093ef13e405",
   "metadata": {},
   "source": [
    "`StructType` and `StructField` With Examples"
   ]
  },
  {
   "cell_type": "markdown",
   "id": "36a0b53f-7875-46e4-b84a-6f0a92bdd236",
   "metadata": {},
   "source": [
    "PySpark `StructType` and `StructField` classes are used to programmatically specify the schema to\n",
    "the DataFrame and create complex columns like nested struct, array, and map columns.\n",
    "`StructType` is a collection of `StructField` that defines column name, column data type, boolean \n",
    "to specify if the field can be nullable or not metadata. Though PySpark infers the schema from the \n",
    "data, sometimes we may need to define our own column names an"
   ]
  }
 ],
 "metadata": {
  "kernelspec": {
   "display_name": "Python 3 (ipykernel)",
   "language": "python",
   "name": "python3"
  },
  "language_info": {
   "codemirror_mode": {
    "name": "ipython",
    "version": 3
   },
   "file_extension": ".py",
   "mimetype": "text/x-python",
   "name": "python",
   "nbconvert_exporter": "python",
   "pygments_lexer": "ipython3",
   "version": "3.10.10"
  }
 },
 "nbformat": 4,
 "nbformat_minor": 5
}
