{
 "cells": [
  {
   "cell_type": "markdown",
   "id": "1f3149b4-facc-44ce-ba0f-51f1862db47b",
   "metadata": {},
   "source": [
    "# PySpark Aggregate Functions Examples\n",
    "\n",
    "First, let's create a DataFrame"
   ]
  },
  {
   "cell_type": "code",
   "execution_count": 3,
   "id": "36c724bd-c477-48c6-ac36-9c24bae3674b",
   "metadata": {
    "tags": []
   },
   "outputs": [
    {
     "name": "stdout",
     "output_type": "stream",
     "text": [
      "root\n",
      " |-- employee_name: string (nullable = true)\n",
      " |-- department: string (nullable = true)\n",
      " |-- salary: long (nullable = true)\n",
      "\n",
      "+-------------+----------+------+\n",
      "|employee_name|department|salary|\n",
      "+-------------+----------+------+\n",
      "|James        |Sales     |3000  |\n",
      "|Michael      |Sales     |4600  |\n",
      "|Robert       |Sales     |4100  |\n",
      "|Maria        |Finance   |3000  |\n",
      "|James        |Sales     |3000  |\n",
      "|Scott        |Finance   |3300  |\n",
      "|Jen          |Finance   |3900  |\n",
      "|Jeff         |Marketing |3000  |\n",
      "|Kumar        |Marketing |2000  |\n",
      "|Saif         |Sales     |4100  |\n",
      "+-------------+----------+------+\n",
      "\n"
     ]
    }
   ],
   "source": [
    "import pyspark\n",
    "from pyspark.sql import SparkSession\n",
    "\n",
    "spark = SparkSession.builder.master(\"local[1]\") \\\n",
    "                    .appName('SparkByExamples.com') \\\n",
    "                    .getOrCreate()\n",
    "\n",
    "simpleData = [(\"James\", \"Sales\", 3000),\n",
    "              (\"Michael\", \"Sales\", 4600),\n",
    "              (\"Robert\", \"Sales\", 4100),\n",
    "              (\"Maria\", \"Finance\", 3000),\n",
    "              (\"James\", \"Sales\", 3000),\n",
    "              (\"Scott\", \"Finance\", 3300),\n",
    "              (\"Jen\", \"Finance\", 3900),\n",
    "              (\"Jeff\", \"Marketing\", 3000),\n",
    "              (\"Kumar\", \"Marketing\", 2000),\n",
    "              (\"Saif\", \"Sales\", 4100)\n",
    "             ]\n",
    "schema = [\"employee_name\", \"department\", \"salary\"]\n",
    "df = spark.createDataFrame(data=simpleData, schema = schema)\n",
    "df.printSchema()\n",
    "df.show(truncate=False)"
   ]
  },
  {
   "cell_type": "markdown",
   "id": "e8e0fae3-820c-4bea-a117-e2ac2757880a",
   "metadata": {},
   "source": [
    "Aggregating data with `approx_count_distinct()` function returning distinct items in a group"
   ]
  },
  {
   "cell_type": "code",
   "execution_count": 5,
   "id": "711fe737-f96b-4472-8bf4-f7be2ecb1085",
   "metadata": {
    "tags": []
   },
   "outputs": [
    {
     "name": "stdout",
     "output_type": "stream",
     "text": [
      "approx_count_distinct: 6\n"
     ]
    }
   ],
   "source": [
    "from pyspark.sql.functions import approx_count_distinct,collect_list\n",
    "\n",
    "print(\"approx_count_distinct: \" + \\\n",
    "      str(df.select(approx_count_distinct(\"salary\")).collect()[0][0]))"
   ]
  },
  {
   "cell_type": "markdown",
   "id": "8a85139f-484d-4992-b598-69691da94053",
   "metadata": {},
   "source": [
    "Aggregating data with `avg()` function returning the average value in the group"
   ]
  },
  {
   "cell_type": "code",
   "execution_count": 8,
   "id": "074131d9-cfaa-4969-bc16-77120e6766fb",
   "metadata": {
    "tags": []
   },
   "outputs": [
    {
     "name": "stdout",
     "output_type": "stream",
     "text": [
      "avg: 3400.0\n"
     ]
    }
   ],
   "source": [
    "from pyspark.sql.functions import collect_set,sum,avg,max,countDistinct,count\n",
    "\n",
    "print(\"avg: \" + str(df.select(avg(\"salary\")).collect()[0][0]))"
   ]
  },
  {
   "cell_type": "markdown",
   "id": "d7091bf4-faf5-4903-81a3-040ad42f3bf0",
   "metadata": {},
   "source": [
    "Aggergating data with `collect_list()`. `collect_list()` returns all values from an input column with duplicates "
   ]
  },
  {
   "cell_type": "code",
   "execution_count": 9,
   "id": "7d971223-4a9b-48f3-8736-bd794bd67cb3",
   "metadata": {
    "tags": []
   },
   "outputs": [
    {
     "name": "stdout",
     "output_type": "stream",
     "text": [
      "+------------------------------------------------------------+\n",
      "|collect_list(salary)                                        |\n",
      "+------------------------------------------------------------+\n",
      "|[3000, 4600, 4100, 3000, 3000, 3300, 3900, 3000, 2000, 4100]|\n",
      "+------------------------------------------------------------+\n",
      "\n"
     ]
    }
   ],
   "source": [
    "df.select(collect_list(\"salary\")).show(truncate=False)"
   ]
  },
  {
   "cell_type": "markdown",
   "id": "02794d31-775e-4bd6-9b36-793937397b7d",
   "metadata": {},
   "source": [
    "Aggregating data with `collect_set()`. `collect_set()` returns all values from an input column with duplicate values eliminated."
   ]
  },
  {
   "cell_type": "code",
   "execution_count": 10,
   "id": "70d8e628-afc0-450d-b2b0-c33b7b9682fb",
   "metadata": {
    "tags": []
   },
   "outputs": [
    {
     "name": "stdout",
     "output_type": "stream",
     "text": [
      "+------------------------------------+\n",
      "|collect_set(salary)                 |\n",
      "+------------------------------------+\n",
      "|[4600, 3000, 3900, 4100, 3300, 2000]|\n",
      "+------------------------------------+\n",
      "\n"
     ]
    }
   ],
   "source": [
    "df.select(collect_set(\"salary\")).show(truncate=False)"
   ]
  },
  {
   "cell_type": "markdown",
   "id": "68703878-8671-4039-8abb-b318afe77d09",
   "metadata": {},
   "source": [
    "Aggregating data with `countDistinct()`. `countDistinct()` returns the number of distinct elements in a column"
   ]
  },
  {
   "cell_type": "code",
   "execution_count": 12,
   "id": "4dac751b-b8fe-4888-b1d1-63576594a600",
   "metadata": {
    "tags": []
   },
   "outputs": [
    {
     "name": "stdout",
     "output_type": "stream",
     "text": [
      "+----------------------------------+\n",
      "|count(DISTINCT department, salary)|\n",
      "+----------------------------------+\n",
      "|8                                 |\n",
      "+----------------------------------+\n",
      "\n",
      "Distinct Count of Department and Salary: 8\n"
     ]
    }
   ],
   "source": [
    "df2 = df.select(countDistinct(\"department\", \"salary\"))\n",
    "df2.show(truncate=False)\n",
    "print(\"Distinct Count of Department and Salary: \" + str(df2.collect()[0][0]))"
   ]
  },
  {
   "cell_type": "code",
   "execution_count": null,
   "id": "6b62885c-bd98-481c-83f6-38981c65a3ac",
   "metadata": {},
   "outputs": [],
   "source": []
  }
 ],
 "metadata": {
  "kernelspec": {
   "display_name": "Python 3 (ipykernel)",
   "language": "python",
   "name": "python3"
  },
  "language_info": {
   "codemirror_mode": {
    "name": "ipython",
    "version": 3
   },
   "file_extension": ".py",
   "mimetype": "text/x-python",
   "name": "python",
   "nbconvert_exporter": "python",
   "pygments_lexer": "ipython3",
   "version": "3.10.10"
  }
 },
 "nbformat": 4,
 "nbformat_minor": 5
}
