{
 "cells": [
  {
   "cell_type": "markdown",
   "id": "1f3149b4-facc-44ce-ba0f-51f1862db47b",
   "metadata": {},
   "source": [
    "# PySpark Aggregate Functions Examples\n",
    "\n",
    "First, let's create a DataFrame"
   ]
  },
  {
   "cell_type": "code",
   "execution_count": 3,
   "id": "36c724bd-c477-48c6-ac36-9c24bae3674b",
   "metadata": {
    "tags": []
   },
   "outputs": [
    {
     "name": "stdout",
     "output_type": "stream",
     "text": [
      "root\n",
      " |-- employee_name: string (nullable = true)\n",
      " |-- department: string (nullable = true)\n",
      " |-- salary: long (nullable = true)\n",
      "\n",
      "+-------------+----------+------+\n",
      "|employee_name|department|salary|\n",
      "+-------------+----------+------+\n",
      "|James        |Sales     |3000  |\n",
      "|Michael      |Sales     |4600  |\n",
      "|Robert       |Sales     |4100  |\n",
      "|Maria        |Finance   |3000  |\n",
      "|James        |Sales     |3000  |\n",
      "|Scott        |Finance   |3300  |\n",
      "|Jen          |Finance   |3900  |\n",
      "|Jeff         |Marketing |3000  |\n",
      "|Kumar        |Marketing |2000  |\n",
      "|Saif         |Sales     |4100  |\n",
      "+-------------+----------+------+\n",
      "\n"
     ]
    }
   ],
   "source": [
    "import pyspark\n",
    "from pyspark.sql import SparkSession\n",
    "\n",
    "spark = SparkSession.builder.master(\"local[1]\") \\\n",
    "                    .appName('SparkByExamples.com') \\\n",
    "                    .getOrCreate()\n",
    "\n",
    "simpleData = [(\"James\", \"Sales\", 3000),\n",
    "              (\"Michael\", \"Sales\", 4600),\n",
    "              (\"Robert\", \"Sales\", 4100),\n",
    "              (\"Maria\", \"Finance\", 3000),\n",
    "              (\"James\", \"Sales\", 3000),\n",
    "              (\"Scott\", \"Finance\", 3300),\n",
    "              (\"Jen\", \"Finance\", 3900),\n",
    "              (\"Jeff\", \"Marketing\", 3000),\n",
    "              (\"Kumar\", \"Marketing\", 2000),\n",
    "              (\"Saif\", \"Sales\", 4100)\n",
    "             ]\n",
    "schema = [\"employee_name\", \"department\", \"salary\"]\n",
    "df = spark.createDataFrame(data=simpleData, schema = schema)\n",
    "df.printSchema()\n",
    "df.show(truncate=False)"
   ]
  },
  {
   "cell_type": "markdown",
   "id": "e8e0fae3-820c-4bea-a117-e2ac2757880a",
   "metadata": {},
   "source": [
    "Aggregating data with `approx_count_distinct()` function returning distinct items in a group"
   ]
  },
  {
   "cell_type": "code",
   "execution_count": 5,
   "id": "711fe737-f96b-4472-8bf4-f7be2ecb1085",
   "metadata": {
    "tags": []
   },
   "outputs": [
    {
     "name": "stdout",
     "output_type": "stream",
     "text": [
      "approx_count_distinct: 6\n"
     ]
    }
   ],
   "source": [
    "from pyspark.sql.functions import approx_count_distinct,collect_list\n",
    "\n",
    "print(\"approx_count_distinct: \" + \\\n",
    "      str(df.select(approx_count_distinct(\"salary\")).collect()[0][0]))"
   ]
  },
  {
   "cell_type": "markdown",
   "id": "8a85139f-484d-4992-b598-69691da94053",
   "metadata": {},
   "source": [
    "Aggregating data with `avg()` function returning the average value in the group"
   ]
  },
  {
   "cell_type": "code",
   "execution_count": 8,
   "id": "074131d9-cfaa-4969-bc16-77120e6766fb",
   "metadata": {
    "tags": []
   },
   "outputs": [
    {
     "name": "stdout",
     "output_type": "stream",
     "text": [
      "avg: 3400.0\n"
     ]
    }
   ],
   "source": [
    "from pyspark.sql.functions import collect_set,sum,avg,max,countDistinct,count\n",
    "\n",
    "print(\"avg: \" + str(df.select(avg(\"salary\")).collect()[0][0]))"
   ]
  },
  {
   "cell_type": "markdown",
   "id": "d7091bf4-faf5-4903-81a3-040ad42f3bf0",
   "metadata": {},
   "source": [
    "Aggergating data with `collect_list()`. `collect_list()` returns all values from an input column with duplicates "
   ]
  },
  {
   "cell_type": "code",
   "execution_count": 9,
   "id": "7d971223-4a9b-48f3-8736-bd794bd67cb3",
   "metadata": {
    "tags": []
   },
   "outputs": [
    {
     "name": "stdout",
     "output_type": "stream",
     "text": [
      "+------------------------------------------------------------+\n",
      "|collect_list(salary)                                        |\n",
      "+------------------------------------------------------------+\n",
      "|[3000, 4600, 4100, 3000, 3000, 3300, 3900, 3000, 2000, 4100]|\n",
      "+------------------------------------------------------------+\n",
      "\n"
     ]
    }
   ],
   "source": [
    "df.select(collect_list(\"salary\")).show(truncate=False)"
   ]
  },
  {
   "cell_type": "code",
   "execution_count": null,
   "id": "18b25109-202f-4f7c-98b1-ef13f45f4fc6",
   "metadata": {},
   "outputs": [],
   "source": []
  }
 ],
 "metadata": {
  "kernelspec": {
   "display_name": "Python 3 (ipykernel)",
   "language": "python",
   "name": "python3"
  },
  "language_info": {
   "codemirror_mode": {
    "name": "ipython",
    "version": 3
   },
   "file_extension": ".py",
   "mimetype": "text/x-python",
   "name": "python",
   "nbconvert_exporter": "python",
   "pygments_lexer": "ipython3",
   "version": "3.10.10"
  }
 },
 "nbformat": 4,
 "nbformat_minor": 5
}
